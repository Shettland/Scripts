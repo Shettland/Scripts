{
 "cells": [
  {
   "attachments": {},
   "cell_type": "markdown",
   "metadata": {},
   "source": [
    "A script to transform a json file which is composed by a list of dictionaries, into a dictionary of dictionaries. The first \"value\" (with key = \"collecting institution\") of the previous dictionaries is set as the key for each new dictionary, and the values are the rest of the key/value pairs. Also included new keys and values based on previous data (which is very dependant to this precise requeriment)"
   ]
  },
  {
   "cell_type": "code",
   "execution_count": null,
   "metadata": {},
   "outputs": [],
   "source": [
    "import json\n",
    "import os"
   ]
  },
  {
   "cell_type": "code",
   "execution_count": null,
   "metadata": {},
   "outputs": [],
   "source": [
    "with open(\"/home/pmata/git_repositories/laboratory_address.json\") as file:\n",
    "    orilist = json.load(file)\n",
    "    final_dict={}\n",
    "    for x in orilist:\n",
    "        first_val = list(x.values())[0]\n",
    "        x[\"submitting_institution\"] = x[\"collecting_institution\"]\n",
    "        x[\"submitting_institution_address\"] = x[\"collecting_institution_address\"]\n",
    "        x[\"submitting_institution_email\"] = x[\"collecting_institution_email\"]\n",
    "        x.pop(\"collecting_institution\")\n",
    "        final_dict[first_val] = x\n",
    "print(final_dict)"
   ]
  },
  {
   "cell_type": "code",
   "execution_count": 8,
   "metadata": {},
   "outputs": [],
   "source": [
    "with open(\"/home/pmata/git_repositories/relecov-tools/relecov_tools/conf/laboratory_address2.json\", \"w\", encoding=\"utf-8\") as f:\n",
    "    json.dump(final_dict, f, ensure_ascii=False, indent=4)"
   ]
  },
  {
   "attachments": {},
   "cell_type": "markdown",
   "metadata": {},
   "source": [
    "Checking if any of the records in the result file after using relecov-tools read-lab-metadata.py has no missing fields"
   ]
  },
  {
   "cell_type": "code",
   "execution_count": 5,
   "metadata": {},
   "outputs": [
    {
     "name": "stdout",
     "output_type": "stream",
     "text": [
      "ERROR\n"
     ]
    }
   ],
   "source": [
    "with open(\"/tmp/relecov/processed_metadata_lab_COD-2129-AND-FIBAO_20230221.json\") as file:\n",
    "    newlist = json.load(file)\n",
    "    original = len(newlist[0].keys())\n",
    "    for x in newlist:\n",
    "        if len(x.keys()) != original:\n",
    "            print(\"ERROR\")"
   ]
  },
  {
   "cell_type": "code",
   "execution_count": 49,
   "metadata": {},
   "outputs": [],
   "source": [
    "import relecov_tools.utils\n",
    "from relecov_tools.config_json import ConfigJson"
   ]
  },
  {
   "cell_type": "code",
   "execution_count": 36,
   "metadata": {},
   "outputs": [
    {
     "name": "stdout",
     "output_type": "stream",
     "text": [
      "22\n"
     ]
    }
   ],
   "source": [
    "config_json = ConfigJson()\n",
    "sftp_port = config_json.get_topic_data(\"sftp_handle\", \"sftp_port\")\n",
    "print(sftp_port)"
   ]
  },
  {
   "cell_type": "code",
   "execution_count": 40,
   "metadata": {},
   "outputs": [
    {
     "name": "stdout",
     "output_type": "stream",
     "text": [
      "['_R1_', '_R1.', '.R1.', 'Forward', 'forward', '_1_', '_1.', '.1.']\n"
     ]
    }
   ],
   "source": [
    "metadata_tmp_folder = config_json.get_topic_data(\n",
    "            \"sftp_handle\", \"allowed_R1_delimiters\"\n",
    "                    )\n",
    "print(metadata_tmp_folder)"
   ]
  },
  {
   "attachments": {},
   "cell_type": "markdown",
   "metadata": {},
   "source": [
    "---"
   ]
  },
  {
   "cell_type": "code",
   "execution_count": 164,
   "metadata": {},
   "outputs": [],
   "source": [
    "import json\n",
    "import os\n",
    "import relecov_tools.utils"
   ]
  },
  {
   "cell_type": "code",
   "execution_count": 128,
   "metadata": {},
   "outputs": [],
   "source": [
    "def schema_dicter(schema):\n",
    "    schema_json = relecov_tools.utils.read_json_file(f\"/home/pmata/git_repositories/relecov-tools/relecov_tools/schema/{schema}\")\n",
    "    schema_dict = {}\n",
    "    for key,value in schema_json[\"properties\"].items():\n",
    "        schema_dict[key] = {x:y for x,y in value.items() if x == \"ontology\" or x == \"label\"}\n",
    "    label_dict = {}\n",
    "    for x in schema_dict.values():\n",
    "        for key,value in x.items():\n",
    "            if key == \"label\":\n",
    "                label_dict[value] = x[\"ontology\"]\n",
    "    return label_dict "
   ]
  },
  {
   "cell_type": "code",
   "execution_count": 143,
   "metadata": {},
   "outputs": [],
   "source": [
    "phagedict = schema_dicter(\"phage_schema.json\")\n",
    "enadict = schema_dicter(\"ena_schema.json\")\n",
    "reledict = schema_dicter(\"relecov_schema.json\")\n",
    "gisaidict = schema_dicter(\"gisaid_schema.json\")\n",
    "dictlist = {\"phage\": phagedict, \"ena\": enadict ,\"relecov\": reledict, \"gisaid\":gisaidict}"
   ]
  },
  {
   "cell_type": "code",
   "execution_count": 241,
   "metadata": {},
   "outputs": [],
   "source": [
    "def schema_differ(schema1, schema2):\n",
    "    same_ontologies = {k: schema1[k] for k in schema1 if k in schema2 and schema1[k] == schema2[k]}\n",
    "    diff_ontologies = {k: schema1[k] for k in schema1 if k in schema2 and schema1[k] != schema2[k]}\n",
    "    \n",
    "    return same_ontologies, diff_ontologies"
   ]
  },
  {
   "cell_type": "code",
   "execution_count": 242,
   "metadata": {},
   "outputs": [
    {
     "name": "stdout",
     "output_type": "stream",
     "text": [
      "29 {}\n",
      "14 {'Sample ID given by originating laboratory': 'GENEPIO:0001123', 'Sample Received Date': 'NCIT:C93644', 'Organism': 'NCIT:C43459'}\n",
      "9 {'Additional Host Information': 'NCIT:C83280'}\n",
      "14 {}\n",
      "67 {'Sample ID given by originating laboratory': 'GENEPIO:0001123', 'Sample Received Date': 'NCIT:C93644', 'Organism': 'NCIT:C43459', 'Consensus sequence name': 'GENEPIO:0001461'}\n",
      "14 {'Sample ID given by originating laboratory': 'GENEPIO:0001123'}\n"
     ]
    }
   ],
   "source": [
    "print(len(schema_differ(enadict, reledict)[0]), schema_differ(enadict, reledict)[1])\n",
    "print(len(schema_differ(enadict, phagedict)[0]), schema_differ(enadict, phagedict)[1])\n",
    "print(len(schema_differ(enadict, gisaidict)[0]), schema_differ(enadict, gisaidict)[1])\n",
    "print(len(schema_differ(reledict, gisaidict)[0]), schema_differ(reledict, gisaidict)[1])\n",
    "print(len(schema_differ(reledict, phagedict)[0]), schema_differ(reledict, phagedict)[1])\n",
    "print(len(schema_differ(gisaidict, phagedict)[0]), schema_differ(gisaidict, phagedict)[1])"
   ]
  },
  {
   "cell_type": "code",
   "execution_count": 156,
   "metadata": {},
   "outputs": [
    {
     "name": "stdout",
     "output_type": "stream",
     "text": [
      "29 {}\n",
      "14 {'Sample ID given by originating laboratory': 'GENEPIO:0001123', 'Sample Received Date': 'NCIT:C93644', 'Organism': 'NCIT:C43459'}\n",
      "9 {'Additional Host Information': 'NCIT:C83280'}\n",
      "14 {}\n",
      "67 {'Sample ID given by originating laboratory': 'GENEPIO:0001123', 'Sample Received Date': 'NCIT:C93644', 'Organism': 'NCIT:C43459', 'Consensus sequence name': 'GENEPIO:0001461'}\n",
      "14 {'Sample ID given by originating laboratory': 'GENEPIO:0001123'}\n"
     ]
    }
   ],
   "source": [
    "print(len(schema_differ(enadict, reledict)[0]), schema_differ(enadict, reledict)[1])\n",
    "print(len(schema_differ(enadict, phagedict)[0]), schema_differ(enadict, phagedict)[1])\n",
    "print(len(schema_differ(enadict, gisaidict)[0]), schema_differ(enadict, gisaidict)[1])\n",
    "print(len(schema_differ(reledict, gisaidict)[0]), schema_differ(reledict, gisaidict)[1])\n",
    "print(len(schema_differ(reledict, phagedict)[0]), schema_differ(reledict, phagedict)[1])\n",
    "print(len(schema_differ(gisaidict, phagedict)[0]), schema_differ(gisaidict, phagedict)[1])\n",
    "\n",
    "#Debugging in-place with import pdb; pdb.set_trace()\n"
   ]
  },
  {
   "cell_type": "code",
   "execution_count": 233,
   "metadata": {},
   "outputs": [],
   "source": [
    "def schema_enumer(schema1, schema2):\n",
    "    schema_json1 = relecov_tools.utils.read_json_file(f\"/home/pmata/git_repositories/relecov-tools/relecov_tools/schema/{schema1}\")\n",
    "    schema_json2 = relecov_tools.utils.read_json_file(f\"/home/pmata/git_repositories/relecov-tools/relecov_tools/schema/{schema2}\")\n",
    "    schema_dict1 = {}\n",
    "    for key,value in schema_json1[\"properties\"].items():\n",
    "        if \"Enums\" in value.keys():\n",
    "            schema_dict1[key] = [y for x,y in value.items() if x == \"Enums\"]\n",
    "    schema_dict2 = {}\n",
    "    for key,value in schema_json2[\"properties\"].items():\n",
    "        if \"Enums\" in value.keys():\n",
    "            schema_dict2[key] = [y for x,y in value.items() if x == \"Enums\"]\n",
    "\n",
    "    enums1 = [x[:-1].split(\" [\") for k,y in schema_dict1.items() for x in y[0]]\n",
    "    enums2 = [x[:-1].split(\" [\") for k,y in schema_dict2.items() for x in y[0]]\n",
    "\n",
    "    same_enums = {x[0]: [x[1],y[1]] for x in enums1 for y in enums2 if x[0] == y[0] and x[1] == y[1]}\n",
    "    diff_enums = {x[0]: [x[1],y[1]] for x in enums1 for y in enums2 if x[0] == y[0] and x[1] != y[1]}\n",
    "\n",
    "    return same_enums, diff_enums\n"
   ]
  },
  {
   "cell_type": "code",
   "execution_count": 234,
   "metadata": {},
   "outputs": [],
   "source": [
    "phagedict2 = \"phage_schema.json\"\n",
    "enadict2 = \"ena_schema.json\"\n",
    "reledict2 = \"relecov_schema.json\"\n",
    "gisaidict2 = \"gisaid_schema.json\""
   ]
  },
  {
   "cell_type": "code",
   "execution_count": 235,
   "metadata": {},
   "outputs": [
    {
     "name": "stdout",
     "output_type": "stream",
     "text": [
      "399 {}\n",
      "401 {}\n",
      "20 {}\n",
      "19 {}\n",
      "520 {'Research': ['GENEPIO:0100022', 'GENEPIO:0100003'], 'Skin': ['UBERON:0001052', 'UBERON:0001003'], 'Middle Nasal Turbinate': ['UBERON:0001762', 'UBERON:0005921'], 'Air filter': ['GENEPIO:0100031', 'ENVO:00003968'], 'Blood Collection Tube': ['GENEPIO:0100031', 'OBI:0002859'], 'Bronchoscope': ['NCIT:C17611', 'OBI:0002826'], 'Collection Container': ['NCIT:C43446', 'OBI:0002088'], 'Filter': ['NCIT:C45801', 'GENEPIO:0100103'], 'Needle': ['NCIT:C69013', 'OBI:0000436'], 'Serum Collection Tube': ['NCIT:C113675', 'OBI:0002860'], 'Sputum Collection Tube': ['GENEPIO:0002115', 'OBI:0002861'], 'Suction Catheter': ['58253008', 'OBI:0002831'], 'Needle Biopsy': ['OBI:0002654', 'OBI:0002651'], 'Filtration': ['NCIT:C16583', 'OBI:0302885'], 'Lavage': ['NCIT:C38068', 'OBI:0600044'], 'Necropsy': ['NCIT:C166270', 'MMO:0000344'], 'Swabbing': ['NCIT:C17627', 'GENEPIO:0002117'], 'Inferior Nasal Turbinate': ['NCIT:C32794', 'UBERON:0005922'], 'Biopsy': ['NCIT:C15189', 'OBI:0002650'], 'Daycare': ['ENVO:01000927', 'GENEPIO:0100193'], 'Hospital': ['ENVO:00002173', 'ECTO:1000035'], 'School': ['ENVO:03501130', 'GENEPIO:0100224']}\n",
      "20 {}\n"
     ]
    }
   ],
   "source": [
    "print(len(schema_enumer(enadict2, reledict2)[0]), schema_enumer(enadict2, reledict2)[1])\n",
    "print(len(schema_enumer(enadict2, phagedict2)[0]), schema_enumer(enadict2, phagedict2)[1])\n",
    "print(len(schema_enumer(enadict2, gisaidict2)[0]), schema_enumer(enadict2, gisaidict2)[1])\n",
    "print(len(schema_enumer(reledict2, gisaidict2)[0]), schema_enumer(reledict2, gisaidict2)[1])\n",
    "print(len(schema_enumer(reledict2, phagedict2)[0]), schema_enumer(reledict2, phagedict2)[1])\n",
    "print(len(schema_enumer(gisaidict2, phagedict2)[0]), schema_enumer(gisaidict2, phagedict2)[1])\n"
   ]
  },
  {
   "cell_type": "code",
   "execution_count": null,
   "metadata": {},
   "outputs": [],
   "source": [
    "jsonprueba = relecov_tools.utils.read_json_file(f\"/home/pmata/git_repositories/relecov-tools/relecov_tools/schema/ena_schema.json\")\n",
    "schemapru = {}\n",
    "for key,value in jsonprueba[\"properties\"].items():\n",
    "    if \"Enums\" in list(value.keys()):\n",
    "        schemapru[key] = [y for x,y in value.items() if x == \"Enums\"]\n",
    "\n",
    "[x[:-1].split(\" [\") for k,y in schemapru.items() for x in y[0]]\n"
   ]
  },
  {
   "cell_type": "code",
   "execution_count": null,
   "metadata": {},
   "outputs": [],
   "source": [
    "for x in schemapru.values():\n",
    "    print(x)\n",
    "    print(x[0][0].split(\"[\"))"
   ]
  }
 ],
 "metadata": {
  "kernelspec": {
   "display_name": "relecov_tools",
   "language": "python",
   "name": "python3"
  },
  "language_info": {
   "codemirror_mode": {
    "name": "ipython",
    "version": 3
   },
   "file_extension": ".py",
   "mimetype": "text/x-python",
   "name": "python",
   "nbconvert_exporter": "python",
   "pygments_lexer": "ipython3",
   "version": "3.9.16"
  },
  "orig_nbformat": 4,
  "vscode": {
   "interpreter": {
    "hash": "4f3ba3e22d1632f5fbac6df5ba3ec9d9d3912a945952ae01fcccd9bb5f4eed18"
   }
  }
 },
 "nbformat": 4,
 "nbformat_minor": 2
}
